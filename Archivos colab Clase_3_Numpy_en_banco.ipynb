{
  "nbformat": 4,
  "nbformat_minor": 0,
  "metadata": {
    "colab": {
      "provenance": [],
      "authorship_tag": "ABX9TyMmJ56KCfEV4hrafI31Be3B",
      "include_colab_link": true
    },
    "kernelspec": {
      "name": "python3",
      "display_name": "Python 3"
    },
    "language_info": {
      "name": "python"
    }
  },
  "cells": [
    {
      "cell_type": "markdown",
      "metadata": {
        "id": "view-in-github",
        "colab_type": "text"
      },
      "source": [
        "<a href=\"https://colab.research.google.com/github/KALGonzalez/ClasesDS-/blob/main/Archivos%20colab%20Clase_3_Numpy_en_banco.ipynb\" target=\"_parent\"><img src=\"https://colab.research.google.com/assets/colab-badge.svg\" alt=\"Open In Colab\"/></a>"
      ]
    },
    {
      "cell_type": "code",
      "execution_count": null,
      "metadata": {
        "id": "hSF_erXIGX1-"
      },
      "outputs": [],
      "source": []
    },
    {
      "cell_type": "markdown",
      "source": [
        "Clase 3\n",
        "Viernes04/11/2024\n",
        "\n",
        "- Repaso:\n",
        "Qué es dato, patrones, tendencias,\n",
        "-Datos de python:\n",
        "\n",
        "Links:\n",
        "Colab:\n",
        "\n",
        "Introducción Numpy https://colab.research.google.com/github/4GeeksAcademy/machine-learning-prework/blob/main/02-numpy/02.1-Intro-to-Numpy.es.ipynb#scrollTo=bc914841\n",
        "Introducción Pandas\n",
        "https://colab.research.google.com/github/4GeeksAcademy/machine-learning-prework/blob/main/03-pandas/03.1-Intro-To-Pandas.es.ipynb\n",
        "\n",
        "Introducción a Numpy\n",
        "\n",
        "Usos de numpy en un banco\n",
        "NumPy es una biblioteca muy útil en el sector bancario, ya que permite manejar grandes volúmenes de datos de manera eficiente y realizar cálculos complejos rápidamente. Aquí te doy algunos ejemplos de cómo se utiliza en un banco:\n",
        "NumPy en un banco:\n",
        "Análisis de Riesgo y Modelos de Crédito: Calcula probabilidades de pago y evalúa riesgos de préstamos e inversiones.\n",
        "Optimización de Portafolios: Ayuda a encontrar combinaciones de inversión que maximizan ganancias y minimizan riesgos.\n",
        "Análisis de Clientes y Transacciones: Procesa grandes volúmenes de datos para analizar tendencias y detectar fraudes.\n",
        "Procesamiento en Tiempo Real: Facilita el cálculo rápido de datos financieros en operaciones de trading.\n",
        "Simulaciones Financieras: Permite proyectar escenarios económicos para gestionar riesgos.\n",
        "Cálculo de Intereses y Préstamos: Simplifica cálculos de cuotas y amortización de préstamos.\n",
        "Detección de Fraude: Identifica patrones sospechosos en las transacciones bancarias.\n",
        "NumPy optimiza el manejo de datos, mejora la eficiencia y apoya decisiones financieras en el banco.\n",
        "\n",
        "7. Detección de Fraude\n",
        "NumPy permite analizar grandes cantidades de datos de transacciones para identificar patrones de fraude.\n",
        "Usando algoritmos de aprendizaje automático (que muchas veces dependen de NumPy para el manejo de datos), los bancos pueden detectar actividades sospechosas en tiempo real.\n",
        "NumPy permite a los bancos trabajar de manera más eficiente y precisa, aprovechando los datos para tomar mejores decisiones y brindar mejores servicios a sus clientes.\n",
        "\n",
        "\n",
        " Matriz de identidad\n",
        "Una matriz de identidad es como una tabla de números especiales que tiene una característica única: no cambia nada cuando la usamos en operaciones con otras matrices.\n",
        "Imagina que estás jugando con números y tienes una cuadrícula o tabla de números donde solo hay unos en la diagonal (de la esquina superior izquierda a la esquina inferior derecha) y ceros en el resto. Esa es una matriz de identidad.\n",
        "Por ejemplo:\n",
        "Para una tabla de 2 filas y 2 columnas, se vería así:\n",
        "(1001)\\begin{pmatrix} 1 & 0 \\\\ 0 & 1 \\end{pmatrix}(10​01​)\n",
        "Para una de 3 filas y 3 columnas, sería:\n",
        "(100010001)\\begin{pmatrix} 1 & 0 & 0 \\\\ 0 & 1 & 0 \\\\ 0 & 0 & 1 \\end{pmatrix}​100​010​001​​\n",
        "¿Para qué sirve?\n",
        "La matriz de identidad es especial porque, cuando multiplicas otra matriz por esta, no la cambia en absoluto. Es como si multiplicaras un número por 1: el número sigue siendo el mismo.\n",
        "Entonces, si tienes una matriz llamada AAA y la multiplicas por la matriz de identidad, el resultado es la misma matriz AAA.\n",
        "¿Por qué es útil?\n",
        "En álgebra y en programación de computadoras, la matriz de identidad ayuda a verificar que otras matrices están correctas y sirve en muchos cálculos, como encontrar soluciones en ecuaciones y en transformaciones en gráficos.\n",
        "Es como el \"1\" en el mundo de las matrices.\n"
      ],
      "metadata": {
        "id": "Um93IdFHGcsa"
      }
    },
    {
      "cell_type": "markdown",
      "source": [
        "**Numpy con matricez de identidad, en un banco**\n",
        "\n",
        "En un banco, las matrices de identidad con NumPy se pueden usar para varios fines, especialmente en cálculos y transformaciones financieras. Aquí te doy algunos ejemplos específicos:\n",
        "\n",
        "**1. Análisis de Portafolio de Inversiones**\n",
        "\n",
        "Cuando se hace un análisis de portafolio, es común utilizar matrices para representar los activos y sus correlaciones. La matriz de identidad se usa en estos casos para aislar un activo y ver su comportamiento sin las influencias de otros activos.\n",
        "Con NumPy, la matriz de identidad ayuda a calcular el riesgo individual de cada activo y simular escenarios como si los activos no estuvieran correlacionados."
      ],
      "metadata": {
        "id": "lX5-8TNKGqJz"
      }
    },
    {
      "cell_type": "code",
      "source": [
        "import numpy as np\n",
        "\n",
        "# Creación de una matriz de identidad para un portafolio de 3 activos\n",
        "identidad = np.eye(3)\n",
        "\n",
        "# Suponiendo que tenemos una matriz de covarianza para 3 activos:\n",
        "covarianza = np.array([[0.04, 0.01, 0.02],\n",
        "                       [0.01, 0.03, 0.015],\n",
        "                       [0.02, 0.015, 0.05]])\n",
        "\n",
        "# Aislar el riesgo de cada activo con la matriz de identidad\n",
        "riesgo_individual = np.dot(identidad, covarianza)\n"
      ],
      "metadata": {
        "id": "YPCmXRRrGzn_"
      },
      "execution_count": null,
      "outputs": []
    },
    {
      "cell_type": "markdown",
      "source": [
        "## **2. Simulaciones de Monte Carlo para Riesgo Crediticio**\n",
        "\n",
        "En simulaciones de Monte Carlo, se suelen generar muchos escenarios aleatorios para evaluar posibles pérdidas.\n",
        "\n",
        "La matriz de identidad es útil para crear simulaciones independientes, en las que cada variable financiera o cliente se comporta de manera independiente.\n",
        "La matriz de identidad se usa aquí para transformar los datos de manera que cada variable sea tratada de forma independiente, sin correlación con las demás.\n"
      ],
      "metadata": {
        "id": "UTFGvJnIHPR5"
      }
    },
    {
      "cell_type": "code",
      "source": [
        "# Generación de una matriz de identidad para simular múltiples variables\n",
        "identidad = np.eye(5)  # 5 variables financieras independientes\n",
        "\n",
        "# Datos simulados de pérdidas potenciales\n",
        "perdidas = np.random.normal(0, 1, (1000, 5))\n",
        "\n",
        "# Aplicando la matriz de identidad para simular variables independientes\n",
        "simulacion = np.dot(perdidas, identidad)\n",
        "\n"
      ],
      "metadata": {
        "id": "jOUHwurBHZwd"
      },
      "execution_count": null,
      "outputs": []
    },
    {
      "cell_type": "markdown",
      "source": [],
      "metadata": {
        "id": "UUQ4SWURHZN_"
      }
    },
    {
      "cell_type": "markdown",
      "source": [
        "**3. Análisis de Impacto en Transacciones**\n",
        "\n",
        "Para detectar anomalías en grandes volúmenes de transacciones, los bancos pueden utilizar matrices de identidad como parte de modelos de redes neuronales. En estos casos, las matrices de identidad permiten a los modelos conservar algunas variables intactas, como puntos de referencia en el análisis.\n",
        "Esto es útil, por ejemplo, al aplicar algoritmos que transforman datos para mejorar la detección de fraudes, manteniendo ciertas características esenciales.\n",
        "\n",
        "**4. Transformaciones y Rotaciones de Datos de Mercado**\n",
        "\n",
        "A veces se requiere rotar o transformar datos de mercado sin cambiar su forma básica. La matriz de identidad se usa aquí como la base de la transformación, asegurando que los datos permanezcan en su espacio original.\n",
        "Esto permite a los analistas hacer comparaciones sin perder la estructura original de los datos.\n"
      ],
      "metadata": {
        "id": "SqTbRK2vHojM"
      }
    },
    {
      "cell_type": "code",
      "source": [
        "# Creación de una matriz de identidad para rotación de datos\n",
        "identidad = np.eye(4)  # 4 variables de datos de mercado\n",
        "\n",
        "# Datos de precios de activos\n",
        "precios_activos = np.array([[100, 105, 98, 110],\n",
        "                            [102, 107, 97, 112]])\n",
        "\n",
        "# Aplicación de la matriz de identidad (sin cambios)\n",
        "datos_transformados = np.dot(precios_activos, identidad)\n"
      ],
      "metadata": {
        "id": "S0nZ-kG7HvPR"
      },
      "execution_count": null,
      "outputs": []
    },
    {
      "cell_type": "markdown",
      "source": [
        "En cada uno de estos casos, la matriz de identidad ayuda a mantener la estructura de los datos mientras se realizan cálculos, simulaciones o análisis de riesgo, lo cual es esencial para hacer comparaciones y proyecciones confiables en el banco.\n",
        "  "
      ],
      "metadata": {
        "id": "zDIXHk2MH3Et"
      }
    }
  ]
}