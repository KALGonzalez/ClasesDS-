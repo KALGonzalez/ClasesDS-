{
  "nbformat": 4,
  "nbformat_minor": 0,
  "metadata": {
    "colab": {
      "provenance": [],
      "authorship_tag": "ABX9TyOxUjM+9hGgSQY7mRcIYHsx",
      "include_colab_link": true
    },
    "kernelspec": {
      "name": "python3",
      "display_name": "Python 3"
    },
    "language_info": {
      "name": "python"
    }
  },
  "cells": [
    {
      "cell_type": "markdown",
      "metadata": {
        "id": "view-in-github",
        "colab_type": "text"
      },
      "source": [
        "<a href=\"https://colab.research.google.com/github/KALGonzalez/ClasesDS-/blob/main/Archivos%20colab%20Clase_3_Pandas_en_banco.ipynb\" target=\"_parent\"><img src=\"https://colab.research.google.com/assets/colab-badge.svg\" alt=\"Open In Colab\"/></a>"
      ]
    },
    {
      "cell_type": "code",
      "execution_count": null,
      "metadata": {
        "id": "gaoOy5kRIanr"
      },
      "outputs": [],
      "source": []
    },
    {
      "cell_type": "markdown",
      "source": [
        "**Introducción a Pandas**\n",
        "\n",
        "Pandas es una biblioteca de Python para manipulación y análisis de datos, ideal para trabajar con grandes conjuntos de datos.\n",
        "Características clave:\n",
        "Estructuras de Datos:\n",
        "Series (una dimensión) y DataFrame (dos dimensiones, como una tabla).\n",
        "Funciones comunes:\n",
        "Leer/escribir datos en formatos como CSV, Excel, SQL.\n",
        "Filtrar, seleccionar y transformar columnas y filas.\n",
        "Calcular estadísticas (media, mediana, etc.).\n",
        "Agrupar datos (groupby) para agregaciones."
      ],
      "metadata": {
        "id": "cHVMFb7QIrCX"
      }
    },
    {
      "cell_type": "code",
      "source": [
        "Ejemplos básicos:\n",
        "python\n",
        "Copy code\n",
        "import pandas as pd\n",
        "# Crear un DataFrame\n",
        "df = pd.DataFrame({'Nombre': ['Ana', 'Luis'], 'Edad': [23, 45]})\n",
        "\n",
        "# Leer datos de CSV\n",
        "df = pd.read_csv('archivo.csv')\n",
        "\n",
        "# Filtrar y agrupar datos\n",
        "mayores_30 = df[df['Edad'] > 30]\n",
        "promedio = df.groupby('Ciudad')['Edad'].mean()\n"
      ],
      "metadata": {
        "id": "VGLg_pZAIwk3"
      },
      "execution_count": null,
      "outputs": []
    },
    {
      "cell_type": "markdown",
      "source": [
        "**En un banco, Pandas**\n",
        "\n",
        "Se utiliza para procesar, analizar y visualizar datos financieros y de clientes. Aquí algunos ejemplos de cómo se usa:\n",
        "1. Análisis de Clientes y Segmentación\n",
        "Pandas permite analizar grandes conjuntos de datos de clientes para segmentarlos en grupos (por ejemplo, por edad, ingresos o historial de crédito).\n",
        "Ayuda a identificar patrones y diseñar ofertas personalizadas para diferentes segmentos de clientes.\n"
      ],
      "metadata": {
        "id": "BLYMQE-eI0um"
      }
    },
    {
      "cell_type": "code",
      "source": [
        "python\n",
        "Copy code\n",
        "# Ejemplo de segmentación por edad e ingresos\n",
        "clientes = pd.read_csv('clientes.csv')\n",
        "clientes_segmentados = clientes.groupby(['Segmento'])[['Edad', 'Ingresos']].mean()\n"
      ],
      "metadata": {
        "id": "DapdmSwsJFjG"
      },
      "execution_count": null,
      "outputs": []
    },
    {
      "cell_type": "markdown",
      "source": [
        "2. Evaluación de Riesgo y Crédito\n",
        "\n",
        "Con Pandas, los bancos pueden analizar historiales de pagos y calcular puntajes de crédito.\n",
        "También es útil para revisar patrones de morosidad y realizar modelos de riesgo crediticio.\n"
      ],
      "metadata": {
        "id": "SyUq189HJQ5T"
      }
    },
    {
      "cell_type": "code",
      "source": [
        "python\n",
        "Copy code\n",
        "# Calcular promedio de morosidad por tipo de cliente\n",
        "morosidad = clientes.groupby('TipoCliente')['Mora'].mean()\n"
      ],
      "metadata": {
        "id": "9XCnIhPsJTit"
      },
      "execution_count": null,
      "outputs": []
    },
    {
      "cell_type": "markdown",
      "source": [
        "3. Análisis de Transacciones para Detección de Fraude\n",
        "\n",
        "Pandas permite procesar grandes volúmenes de datos de transacciones para buscar actividades inusuales o patrones de fraude.\n",
        "Facilita filtrar transacciones por valores, frecuencia y patrones.\n"
      ],
      "metadata": {
        "id": "iIoQlNznJivQ"
      }
    },
    {
      "cell_type": "code",
      "source": [
        "# Filtrar transacciones inusuales\n",
        "transacciones = pd.read_csv('transacciones.csv')\n",
        "sospechosas = transacciones[transacciones['Monto'] > 10000]\n"
      ],
      "metadata": {
        "id": "5Zn1PQ2oJeJm"
      },
      "execution_count": null,
      "outputs": []
    },
    {
      "cell_type": "markdown",
      "source": [
        "4. Simulaciones de Escenarios Financieros\n",
        "\n",
        "Los bancos pueden usar Pandas para realizar simulaciones de ingresos y pérdidas bajo diferentes escenarios económicos.\n"
      ],
      "metadata": {
        "id": "l3lwDvvWJsu0"
      }
    },
    {
      "cell_type": "code",
      "source": [
        "# Simulación de pérdidas\n",
        "escenarios = pd.DataFrame({'Escenario': ['Recesión', 'Crecimiento'], 'Pérdida': [-50000, 20000]})\n"
      ],
      "metadata": {
        "id": "xd4MXwWVJx-n"
      },
      "execution_count": null,
      "outputs": []
    },
    {
      "cell_type": "markdown",
      "source": [
        "5. Reporte de Indicadores Financieros y KPIs\n",
        "\n",
        "Con Pandas, es fácil calcular y generar reportes de KPIs como el margen de interés, tasas de morosidad o indicadores de rentabilidad.\n"
      ],
      "metadata": {
        "id": "UOEfaT7_JzaZ"
      }
    },
    {
      "cell_type": "code",
      "source": [
        "python\n",
        "Copy code\n",
        "# Reporte de rentabilidad por mes\n",
        "kpis = transacciones.groupby('Mes')['Ganancia'].sum()\n"
      ],
      "metadata": {
        "id": "W1Svjb4kKJv9"
      },
      "execution_count": null,
      "outputs": []
    }
  ]
}