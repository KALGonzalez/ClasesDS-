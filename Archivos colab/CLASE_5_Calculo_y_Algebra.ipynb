{
  "nbformat": 4,
  "nbformat_minor": 0,
  "metadata": {
    "colab": {
      "provenance": [],
      "authorship_tag": "ABX9TyPz6J/1XdybJCg20MP5/MFt",
      "include_colab_link": true
    },
    "kernelspec": {
      "name": "python3",
      "display_name": "Python 3"
    },
    "language_info": {
      "name": "python"
    }
  },
  "cells": [
    {
      "cell_type": "markdown",
      "metadata": {
        "id": "view-in-github",
        "colab_type": "text"
      },
      "source": [
        "<a href=\"https://colab.research.google.com/github/KALGonzalez/ClasesDS-/blob/main/Archivos%20colab/CLASE_5_Calculo_y_Algebra.ipynb\" target=\"_parent\"><img src=\"https://colab.research.google.com/assets/colab-badge.svg\" alt=\"Open In Colab\"/></a>"
      ]
    },
    {
      "cell_type": "code",
      "execution_count": null,
      "metadata": {
        "id": "dF2ROTsgOiVG"
      },
      "outputs": [],
      "source": []
    },
    {
      "cell_type": "markdown",
      "source": [
        "En Python, el álgebra lineal se puede trabajar fácilmente con la biblioteca **NumPy**, que ofrece funciones y métodos eficientes para operaciones con vectores y matrices.\n",
        "\n",
        "Aquí te muestro un ejemplo práctico usando NumPy para resolver un sistema de ecuaciones lineales, calcular autovalores y autovectores, y hacer una descomposición en valores singulares.\n",
        "\n",
        "### Paso 1: Importar NumPy\n",
        "```python\n",
        "import numpy as np\n",
        "```\n",
        "\n",
        "### Ejemplo 1: Resolver un sistema de ecuaciones lineales\n",
        "\n",
        "Supongamos que tenemos el sistema de ecuaciones:\n",
        "\\[\n",
        "2x + 3y = 8\n",
        "\\]\n",
        "\\[\n",
        "x - y = 1\n",
        "\\]\n",
        "\n",
        "Podemos escribirlo en forma de matrices:\n",
        "\\[\n",
        "AX = B\n",
        "\\]\n",
        "donde\n",
        "\\[\n",
        "A = \\begin{bmatrix} 2 & 3 \\\\ 1 & -1 \\end{bmatrix}, \\quad B = \\begin{bmatrix} 8 \\\\ 1 \\end{bmatrix}\n",
        "\\]\n",
        "\n",
        "```python\n",
        "# Definir la matriz A y el vector B\n",
        "A = np.array([[2, 3], [1, -1]])\n",
        "B = np.array([8, 1])\n",
        "\n",
        "# Resolver para X\n",
        "X = np.linalg.solve(A, B)\n",
        "print(\"Solución del sistema de ecuaciones (valores de x y y):\", X)\n",
        "```\n",
        "\n",
        "### Ejemplo 2: Calcular autovalores y autovectores\n",
        "\n",
        "Supongamos que tenemos una matriz cuadrada:\n",
        "\\[\n",
        "M = \\begin{bmatrix} 4 & 2 \\\\ 1 & 3 \\end{bmatrix}\n",
        "\\]\n",
        "\n",
        "```python\n",
        "# Definir la matriz M\n",
        "M = np.array([[4, 2], [1, 3]])\n",
        "\n",
        "# Calcular autovalores y autovectores\n",
        "autovalores, autovectores = np.linalg.eig(M)\n",
        "print(\"Autovalores:\", autovalores)\n",
        "print(\"Autovectores:\\n\", autovectores)\n",
        "```\n",
        "\n",
        "### Ejemplo 3: Descomposición en Valores Singulares (SVD)\n",
        "\n",
        "Supongamos que queremos descomponer la matriz M en sus componentes de SVD.\n",
        "\n",
        "```python\n",
        "# Descomposición en valores singulares\n",
        "U, S, VT = np.linalg.svd(M)\n",
        "print(\"Matriz U:\\n\", U)\n",
        "print(\"Valores Singulares (S):\", S)\n",
        "print(\"Matriz VT:\\n\", VT)\n",
        "```\n",
        "\n",
        "### Explicación de los Resultados\n",
        "1. **Sistema de Ecuaciones**: La solución `X` contiene los valores de \\( x \\) e \\( y \\) que resuelven el sistema.\n",
        "2. **Autovalores y Autovectores**: Los autovalores indican la escala de transformación en cada dirección, y los autovectores son las direcciones de transformación.\n",
        "3. **SVD**: La descomposición SVD descompone `M` en tres matrices (`U`, `S`, y `VT`), lo cual es útil en reducción de dimensionalidad y compresión de datos.\n",
        "\n",
        "Estos son algunos ejemplos básicos, pero NumPy ofrece muchas otras funciones para operaciones avanzadas en álgebra lineal que son fundamentales en ciencia de datos."
      ],
      "metadata": {
        "id": "TcK0FjgfQgfK"
      }
    },
    {
      "cell_type": "code",
      "source": [
        "import numpy as np\n",
        "\n",
        "# Definir la matriz A y el vector B\n",
        "A = np.array([[2, 3], [1, -1]])\n",
        "B = np.array([8, 1])\n",
        "\n",
        "# Resolver para X\n",
        "X = np.linalg.solve(A, B)\n",
        "print(\"Solución del sistema de ecuaciones (valores de x y y):\", X)\n",
        "# Definir la matriz M\n",
        "M = np.array([[4, 2], [1, 3]])\n",
        "\n",
        "# Calcular autovalores y autovectores\n",
        "autovalores, autovectores = np.linalg.eig(M)\n",
        "print(\"Autovalores:\", autovalores)\n",
        "print(\"Autovectores:\\n\", autovectores)\n",
        "\n",
        "# Descomposición en valores singulares\n",
        "U, S, VT = np.linalg.svd(M)\n",
        "print(\"Matriz U:\\n\", U)\n",
        "print(\"Valores Singulares (S):\", S)\n",
        "print(\"Matriz VT:\\n\", VT)\n"
      ],
      "metadata": {
        "colab": {
          "base_uri": "https://localhost:8080/"
        },
        "id": "oX5AuVEyQk4P",
        "outputId": "2a149a6b-fc17-4987-a9fb-a4cad5782867"
      },
      "execution_count": null,
      "outputs": [
        {
          "output_type": "stream",
          "name": "stdout",
          "text": [
            "Solución del sistema de ecuaciones (valores de x y y): [2.2 1.2]\n",
            "Autovalores: [5. 2.]\n",
            "Autovectores:\n",
            " [[ 0.89442719 -0.70710678]\n",
            " [ 0.4472136   0.70710678]]\n",
            "Matriz U:\n",
            " [[-0.85065081 -0.52573111]\n",
            " [-0.52573111  0.85065081]]\n",
            "Valores Singulares (S): [5.11667274 1.95439508]\n",
            "Matriz VT:\n",
            " [[-0.76775173 -0.64074744]\n",
            " [-0.64074744  0.76775173]]\n"
          ]
        }
      ]
    },
    {
      "cell_type": "markdown",
      "source": [
        "La función `random.rand` en Python es una forma de crear números al azar, como si fuera un \"dado digital\" que genera números entre 0 y 1. Es como tener una caja mágica que, cada vez que la usas, te da un número diferente.\n",
        "\n",
        "Aquí te explico cómo se usa y algunos ejemplos para entenderla mejor:\n",
        "\n",
        "### Paso 1: Importar la Biblioteca\n",
        "Primero, necesitamos importar la biblioteca **NumPy** para usar `random.rand`:\n",
        "```python\n",
        "import numpy as np\n",
        "```\n",
        "\n",
        "### Ejemplo 1: Generar un Número al Azar\n",
        "Si queremos que la caja mágica nos dé un solo número entre 0 y 1, hacemos esto:\n",
        "```python\n",
        "# Crear un número al azar entre 0 y 1\n",
        "numero = np.random.rand()\n",
        "print(\"Número al azar:\", numero)\n",
        "```\n",
        "Cada vez que ejecutas este código, te dará un número distinto, por ejemplo: 0.523 o 0.879.\n",
        "\n",
        "### Ejemplo 2: Generar una Lista de Números al Azar\n",
        "Podemos pedirle a `random.rand` que nos dé varios números a la vez. Si queremos 5 números, por ejemplo:\n",
        "```python\n",
        "# Crear 5 números al azar entre 0 y 1\n",
        "numeros = np.random.rand(5)\n",
        "print(\"Lista de números al azar:\", numeros)\n",
        "```\n",
        "Te dará algo como `[0.4, 0.7, 0.2, 0.8, 0.5]`. Cada número será distinto cada vez que corras el código.\n",
        "\n",
        "### Ejemplo 3: Crear una \"Tabla\" o Matriz de Números al Azar\n",
        "También podemos usar `random.rand` para crear una tabla (o matriz) de números. Imagina una tabla de multiplicar, pero con números al azar en lugar de multiplicaciones.\n",
        "\n",
        "Si queremos una tabla de 3 filas y 2 columnas:\n",
        "```python\n",
        "# Crear una matriz de 3 filas y 2 columnas con números al azar\n",
        "matriz = np.random.rand(3, 2)\n",
        "print(\"Matriz de números al azar:\\n\", matriz)\n",
        "```\n",
        "\n",
        "Cada vez que corras el código, obtendrás una matriz distinta, como:\n",
        "```\n",
        "[[0.6 0.2]\n",
        " [0.1 0.8]\n",
        " [0.9 0.4]]\n",
        "```\n",
        "\n",
        "### ¿Para Qué Sirve `random.rand`?\n",
        "\n",
        "- **Simulaciones**: Se usa en simulaciones, como si quieres simular el lanzamiento de dados o cualquier evento al azar.\n",
        "- **Juegos**: Para crear eventos inesperados en videojuegos, como aparecer un objeto en un lugar aleatorio.\n",
        "- **Ciencia de Datos y Estadística**: Los científicos y programadores lo usan para crear datos de prueba o para hacer cálculos donde los números aleatorios son útiles.\n",
        "\n",
        "Es como tener un \"dado digital\" que puedes configurar de muchas maneras para crear números al azar, ¡una herramienta divertida y poderosa en Python!"
      ],
      "metadata": {
        "id": "odo0q0LPRoyJ"
      }
    },
    {
      "cell_type": "code",
      "source": [],
      "metadata": {
        "id": "oSHV7_61RoBG"
      },
      "execution_count": null,
      "outputs": []
    },
    {
      "cell_type": "code",
      "source": [],
      "metadata": {
        "id": "ET-yh7chWBkD"
      },
      "execution_count": null,
      "outputs": []
    }
  ]
}